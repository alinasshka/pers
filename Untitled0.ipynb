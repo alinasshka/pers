{
  "nbformat": 4,
  "nbformat_minor": 0,
  "metadata": {
    "colab": {
      "provenance": [],
      "authorship_tag": "ABX9TyNMwBTqSDYLouLpDkY5Zzqv",
      "include_colab_link": true
    },
    "kernelspec": {
      "name": "python3",
      "display_name": "Python 3"
    },
    "language_info": {
      "name": "python"
    }
  },
  "cells": [
    {
      "cell_type": "markdown",
      "metadata": {
        "id": "view-in-github",
        "colab_type": "text"
      },
      "source": [
        "<a href=\"https://colab.research.google.com/github/alinasshka/pers/blob/main/Untitled0.ipynb\" target=\"_parent\"><img src=\"https://colab.research.google.com/assets/colab-badge.svg\" alt=\"Open In Colab\"/></a>"
      ]
    },
    {
      "cell_type": "code",
      "execution_count": 9,
      "metadata": {
        "colab": {
          "base_uri": "https://localhost:8080/"
        },
        "id": "fQyCrv-1hz4I",
        "outputId": "cc0ccfe4-8780-45a9-a071-16be019ead38"
      },
      "outputs": [
        {
          "output_type": "stream",
          "name": "stdout",
          "text": [
            "На сайте9 программы можно изучить9 \t\n",
            "\n",
            " Установить !!!!!"
          ]
        }
      ],
      "source": [
        "print(\"На сайте\",\" программы можно изучить\",\" \\t\\n\\n Установить \", sep='9', end='!!!!!')"
      ]
    },
    {
      "cell_type": "code",
      "source": [
        "first_var = 5"
      ],
      "metadata": {
        "id": "weUN8R2plLFQ"
      },
      "execution_count": 11,
      "outputs": []
    },
    {
      "cell_type": "code",
      "source": [
        "first_var = 5\n",
        "second_var =  'программы можно изучить'\n",
        "print(f'{second_var} #{first_var}')\n",
        "\n"
      ],
      "metadata": {
        "colab": {
          "base_uri": "https://localhost:8080/"
        },
        "id": "dbVL4FG-lfiO",
        "outputId": "1d23237d-204c-4449-e9d4-6b1c3c984641"
      },
      "execution_count": 15,
      "outputs": [
        {
          "output_type": "stream",
          "name": "stdout",
          "text": [
            "программы можно изучить #5\n"
          ]
        }
      ]
    },
    {
      "cell_type": "code",
      "source": [
        "name = input('what is your name?')\n",
        "print(name)"
      ],
      "metadata": {
        "colab": {
          "base_uri": "https://localhost:8080/"
        },
        "id": "vMfratPJm_gK",
        "outputId": "e02ed6fc-9082-4060-ff57-6fc0b5a4c1e9"
      },
      "execution_count": 17,
      "outputs": [
        {
          "output_type": "stream",
          "name": "stdout",
          "text": [
            "what is your name?alina\n",
            "alina\n"
          ]
        }
      ]
    },
    {
      "cell_type": "code",
      "source": [
        "a = 'alina'\n",
        "b = 7\n",
        "a * b"
      ],
      "metadata": {
        "colab": {
          "base_uri": "https://localhost:8080/",
          "height": 35
        },
        "id": "VJ7DE_jpoOYq",
        "outputId": "2279a825-f529-400e-f190-47215ba349e4"
      },
      "execution_count": 21,
      "outputs": [
        {
          "output_type": "execute_result",
          "data": {
            "text/plain": [
              "'alinaalinaalinaalinaalinaalinaalina'"
            ],
            "application/vnd.google.colaboratory.intrinsic+json": {
              "type": "string"
            }
          },
          "metadata": {},
          "execution_count": 21
        }
      ]
    },
    {
      "cell_type": "code",
      "source": [
        "a = int(input())\n",
        "b = int(input())\n",
        "\n",
        "print(a, b)\n"
      ],
      "metadata": {
        "colab": {
          "base_uri": "https://localhost:8080/"
        },
        "id": "pEDqoMI5paPa",
        "outputId": "906a4324-8449-4f56-9cda-5ac5544445dd"
      },
      "execution_count": 24,
      "outputs": [
        {
          "output_type": "stream",
          "name": "stdout",
          "text": [
            "2\n",
            "5\n",
            "2 5\n"
          ]
        }
      ]
    },
    {
      "cell_type": "code",
      "source": [
        "a + b"
      ],
      "metadata": {
        "colab": {
          "base_uri": "https://localhost:8080/"
        },
        "id": "ly0ug6l6qFld",
        "outputId": "f9be6b92-427e-41de-bd32-3e62d98938ce"
      },
      "execution_count": 25,
      "outputs": [
        {
          "output_type": "execute_result",
          "data": {
            "text/plain": [
              "7"
            ]
          },
          "metadata": {},
          "execution_count": 25
        }
      ]
    },
    {
      "cell_type": "code",
      "source": [
        "number1 = int(input(\"a = \"))\n",
        "number2 = int(input(\"b = \"))\n",
        "op = input('op = ')\n",
        "result = None \n",
        "\n",
        "if op == '+':\n",
        "   result = number1 + number2\n",
        "elif op == '-':\n",
        "   result = number1 - number2\n",
        "elif op == '*':\n",
        "  result = number1 * number2\n",
        "elif op == '/':\n",
        "  result = number1 / number2\n",
        "else: \n",
        "    print('все условия оказались ложными')\n",
        "result_str\n",
        "print(result_str)\n",
        "\n"
      ],
      "metadata": {
        "colab": {
          "base_uri": "https://localhost:8080/"
        },
        "id": "WSBD-k0Gq9h0",
        "outputId": "24e97099-df00-4ab7-b926-63e8aa411f5a"
      },
      "execution_count": 61,
      "outputs": [
        {
          "output_type": "stream",
          "name": "stdout",
          "text": [
            "a = 8\n",
            "b = 4\n",
            "op = =\n",
            "все условия оказались ложными\n"
          ]
        }
      ]
    },
    {
      "cell_type": "code",
      "source": [
        "name = input('Как вас зовут?')\n",
        "age = input('Сколько вам лет?')\n",
        "\n",
        "if name == '':\n",
        "  print('Вы безымянный?')\n",
        "if age == '':\n",
        "  print('Возраст епта!')\n"
      ],
      "metadata": {
        "colab": {
          "base_uri": "https://localhost:8080/"
        },
        "id": "ON7h9sLCwKjh",
        "outputId": "380c451a-9243-4e2c-89ae-209e47145c16"
      },
      "execution_count": 42,
      "outputs": [
        {
          "output_type": "stream",
          "name": "stdout",
          "text": [
            "Как вас зовут?\n",
            "Сколько вам лет?67\n",
            "Вы безымянный?\n"
          ]
        }
      ]
    },
    {
      "cell_type": "code",
      "source": [
        "name = input('Как вас зовут?')\n",
        "age = input('Сколько вам лет?')\n",
        "\n",
        "if name == '' and age == '' :\n",
        "  print('Вы безымянный? И Возраст епта!')\n",
        "elif age == '':\n",
        "  print('Возраст епта!')\n",
        "elif name == '':\n",
        "  print('Вы безымянный?')"
      ],
      "metadata": {
        "colab": {
          "base_uri": "https://localhost:8080/"
        },
        "id": "QJliYnhjrA7Q",
        "outputId": "29499535-4f08-442e-9195-b9a751c4b657"
      },
      "execution_count": 65,
      "outputs": [
        {
          "output_type": "stream",
          "name": "stdout",
          "text": [
            "Как вас зовут?\n",
            "Сколько вам лет?\n",
            "Вы безымянный? И Возраст епта!\n"
          ]
        }
      ]
    },
    {
      "cell_type": "code",
      "source": [
        "boolean_var_1 = True\n",
        "boolean_var_2 = False\n"
      ],
      "metadata": {
        "id": "J230lPjW7wDH"
      },
      "execution_count": 66,
      "outputs": []
    },
    {
      "cell_type": "code",
      "source": [
        "boolean_var_1 or boolean_var_2\n"
      ],
      "metadata": {
        "colab": {
          "base_uri": "https://localhost:8080/"
        },
        "id": "qcuruf4q8C3h",
        "outputId": "16938f4a-66b1-44a6-a51a-488914e2e62c"
      },
      "execution_count": 67,
      "outputs": [
        {
          "output_type": "execute_result",
          "data": {
            "text/plain": [
              "True"
            ]
          },
          "metadata": {},
          "execution_count": 67
        }
      ]
    },
    {
      "cell_type": "code",
      "source": [
        "16 % 7"
      ],
      "metadata": {
        "colab": {
          "base_uri": "https://localhost:8080/"
        },
        "id": "FBz923HJ9OG2",
        "outputId": "338ac635-f2b0-4dc9-89f5-c9deb026eb09"
      },
      "execution_count": 68,
      "outputs": [
        {
          "output_type": "execute_result",
          "data": {
            "text/plain": [
              "2"
            ]
          },
          "metadata": {},
          "execution_count": 68
        }
      ]
    },
    {
      "cell_type": "code",
      "source": [
        "month = input('какой сейчас месяц?\\n')\n",
        "year = int(input('Какой сейчас год\\n'))\n",
        "\n",
        "if month == 'Январь' or month == 'Март' or month == 'Май': \n",
        "  print(31)\n",
        "elif month == 'Февраль' and (year % 4 == 0 and year % 100 != 0 or year % 400 == 0):\n",
        "  print(29)\n",
        "elif month == 'Февраль' and not (year % 4 == 0 and year % 100 != 0 or year % 400 == 0):\n",
        "  print(28)\n",
        "else: \n",
        "  print(30) "
      ],
      "metadata": {
        "colab": {
          "base_uri": "https://localhost:8080/"
        },
        "id": "TbM4hiwa8KnJ",
        "outputId": "0dc10e2e-3aac-4a34-eaac-f5c6f5a64336"
      },
      "execution_count": 72,
      "outputs": [
        {
          "output_type": "stream",
          "name": "stdout",
          "text": [
            "какой сейчас месяц?\n",
            "Апрель\n",
            "Какой сейчас год\n",
            "2001\n",
            "30\n"
          ]
        }
      ]
    },
    {
      "cell_type": "code",
      "source": [
        "def line(x):\n",
        "  global argument1\n",
        "  argument1 = 3 + 2\n",
        "   y = 2 + 3 * x\n",
        "   return y \n",
        "\n",
        "argument2 = int(input('Введите икс\\n'))\n",
        "print(line(argument2))"
      ],
      "metadata": {
        "colab": {
          "base_uri": "https://localhost:8080/",
          "height": 131
        },
        "id": "LjZiwvT7Bzu8",
        "outputId": "dbf07081-30b4-4ae4-88c4-bd9e62b036e2"
      },
      "execution_count": 74,
      "outputs": [
        {
          "output_type": "error",
          "ename": "IndentationError",
          "evalue": "ignored",
          "traceback": [
            "\u001b[0;36m  File \u001b[0;32m\"<ipython-input-74-de21c917ea22>\"\u001b[0;36m, line \u001b[0;32m4\u001b[0m\n\u001b[0;31m    y = 2 + 3 * x\u001b[0m\n\u001b[0m    ^\u001b[0m\n\u001b[0;31mIndentationError\u001b[0m\u001b[0;31m:\u001b[0m unexpected indent\n"
          ]
        }
      ]
    },
    {
      "cell_type": "code",
      "source": [
        "print('Введите икс')"
      ],
      "metadata": {
        "id": "D0FjCxh4Cd1l"
      },
      "execution_count": null,
      "outputs": []
    },
    {
      "cell_type": "code",
      "source": [],
      "metadata": {
        "id": "W64t3O9TDxr1"
      },
      "execution_count": null,
      "outputs": []
    }
  ]
}